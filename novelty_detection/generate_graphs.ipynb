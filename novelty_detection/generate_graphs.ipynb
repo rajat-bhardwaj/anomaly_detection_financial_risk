{
 "cells": [
  {
   "cell_type": "code",
   "execution_count": null,
   "metadata": {},
   "outputs": [],
   "source": [
    "import pandas as pd\n",
    "import numpy as np\n",
    "import plotly.express as px"
   ]
  },
  {
   "cell_type": "code",
   "execution_count": null,
   "metadata": {},
   "outputs": [],
   "source": [
    "hp_results_iforest = pd.read_csv('hp_results/result_iforest.csv', index_col=0)\n",
    "hp_results_lof = pd.read_csv('hp_results/result_lof.csv', index_col=0)\n",
    "hp_results_rrcf = pd.read_csv('hp_results/result_rrcf.csv', index_col=0)"
   ]
  },
  {
   "cell_type": "code",
   "execution_count": null,
   "metadata": {},
   "outputs": [],
   "source": [
    "hp_results_iforest.head(2)"
   ]
  },
  {
   "cell_type": "code",
   "execution_count": null,
   "metadata": {},
   "outputs": [],
   "source": [
    "fig = px.scatter(hp_results_iforest, x=\"n_estimators\", y=\"avg_auc\", \n",
    "                 color=\"max_samples\",\n",
    "                 size='std_dev_auc',\n",
    "                 title=\"Hyper-parameter results -iForest\",\n",
    "                 labels={'n_estimators': 'Number of Trees', 'avg_auc': 'Average AUC value'}\n",
    "                )\n",
    "fig.show()"
   ]
  },
  {
   "cell_type": "code",
   "execution_count": null,
   "metadata": {},
   "outputs": [],
   "source": [
    "hp_results_rrcf.head(2)"
   ]
  },
  {
   "cell_type": "code",
   "execution_count": null,
   "metadata": {},
   "outputs": [],
   "source": [
    "fig = px.scatter(hp_results_rrcf, x=\"n_estimators\", y=\"average_auc\", \n",
    "                 size='sd_auc',\n",
    "                 title=\"Hyper-parameter results - RRCF\",\n",
    "                 labels={'n_estimators': 'Number of Trees', 'average_auc': 'Average AUC value'}\n",
    "                )\n",
    "fig.show()"
   ]
  },
  {
   "cell_type": "code",
   "execution_count": null,
   "metadata": {},
   "outputs": [],
   "source": [
    "fig = px.line(hp_results_rrcf, x=\"n_estimators\", y=\"training_time\", \n",
    "                 title=\"Hyper-parameter results - RRCF\",\n",
    "                 labels={'n_estimators': 'Number of Neighbours', 'training_time': 'Model training time (sec)'}\n",
    "                )\n",
    "fig.show()"
   ]
  },
  {
   "cell_type": "code",
   "execution_count": null,
   "metadata": {},
   "outputs": [],
   "source": [
    "hp_results_lof.head(2)"
   ]
  },
  {
   "cell_type": "code",
   "execution_count": null,
   "metadata": {},
   "outputs": [],
   "source": [
    "fig = px.scatter(hp_results_lof, x=\"n_neighbors\", y=\"avg_auc\", \n",
    "                 color=\"leaf_size\",\n",
    "                 size='std_dev_auc',\n",
    "                 title=\"Hyper-parameter results - LOF\",\n",
    "                 labels={'n_neighbors': 'Number of Neighbours', 'avg_auc': 'Average AUC value'}\n",
    "                )\n",
    "fig.show()"
   ]
  }
 ],
 "metadata": {
  "kernelspec": {
   "display_name": "Python 3",
   "language": "python",
   "name": "python3"
  }
 },
 "nbformat": 4,
 "nbformat_minor": 4
}
