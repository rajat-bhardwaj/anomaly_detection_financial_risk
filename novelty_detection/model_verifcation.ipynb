{
 "cells": [
  {
   "cell_type": "code",
   "execution_count": null,
   "metadata": {},
   "outputs": [],
   "source": [
    "import pandas as pd\n",
    "import numpy as np"
   ]
  },
  {
   "cell_type": "code",
   "execution_count": null,
   "metadata": {},
   "outputs": [],
   "source": [
    "from iForest_model_training import IforestAlgorithm\n",
    "ref = IforestAlgorithm()\n",
    "results = ref.execute_model_iForest()"
   ]
  },
  {
   "cell_type": "code",
   "execution_count": null,
   "metadata": {},
   "outputs": [],
   "source": [
    "from lof_nd_implementation import lofNoveltyDetection\n",
    "ref_lof = lofNoveltyDetection()\n",
    "results_lof = ref_lof.execute_model_lof_nov_detection()"
   ]
  },
  {
   "cell_type": "code",
   "execution_count": null,
   "metadata": {},
   "outputs": [],
   "source": [
    "from rrcf_implementation_forestperprocess import rrcfMultiProcessForest\n",
    "ref_rrcf = rrcfMultiProcessForest()\n",
    "result_rrcf = ref_rrcf.execute_rrcf()"
   ]
  },
  {
   "cell_type": "code",
   "execution_count": null,
   "metadata": {},
   "outputs": [],
   "source": [
    "results.to_csv('result_iforest.csv')\n",
    "results_lof.to_csv('result_lof.csv')\n",
    "result_rrcf.to_csv('result_rrcf.csv')"
   ]
  },
  {
   "cell_type": "code",
   "execution_count": null,
   "metadata": {},
   "outputs": [],
   "source": []
  }
 ],
 "metadata": {
  "kernelspec": {
   "display_name": "Python 3",
   "language": "python",
   "name": "python3"
  }
 },
 "nbformat": 4,
 "nbformat_minor": 4
}
