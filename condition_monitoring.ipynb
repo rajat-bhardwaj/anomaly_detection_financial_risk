{
 "cells": [
  {
   "cell_type": "code",
   "execution_count": null,
   "metadata": {},
   "outputs": [],
   "source": [
    "import pandas as pd\n",
    "import numpy as np\n",
    "\n",
    "import warnings\n",
    "warnings.filterwarnings(\"ignore\")"
   ]
  },
  {
   "cell_type": "markdown",
   "metadata": {},
   "source": [
    "### Data Prep \n",
    "\n",
    "We have used a synthetic data to demonstrate the implementation. This data preparation can be achieved in SQL in needed.\n",
    "This example demonstrate the model using two features such as deposit and withdrawal amount."
   ]
  },
  {
   "cell_type": "code",
   "execution_count": null,
   "metadata": {},
   "outputs": [],
   "source": [
    "data_cm = pd.read_csv('synth_data_aml_cm.csv')\n",
    "# data_cm.columns"
   ]
  },
  {
   "cell_type": "code",
   "execution_count": null,
   "metadata": {},
   "outputs": [],
   "source": [
    "## selecting fetures related to deposit and withdrawals only as an example\n",
    "data_cm = data_cm.filter(['Customer_id', 'deposit_amount_24_hours', 'deposit_amount_14_days',\n",
    "                          'deposit_amount_3_months', 'deposit_amount_lifetime',\n",
    "                          'n_deposit_days_14_days', 'n_deposit_days_3_months',\n",
    "                          'n_deposit_days_lifetime', 'wtd_amount_24_hours', 'wtd_amount_14_days', \n",
    "                          'wtd_amount_3_months', 'wtd_amount_lifetime', 'n_wtd_days_14_days', \n",
    "                          'n_wtd_days_3_months', 'n_wtd_days_lifetime'])"
   ]
  },
  {
   "cell_type": "code",
   "execution_count": null,
   "metadata": {},
   "outputs": [],
   "source": [
    "data_cm.head()"
   ]
  },
  {
   "cell_type": "code",
   "execution_count": null,
   "metadata": {},
   "outputs": [],
   "source": [
    "## data prep stage - can be done via sql \n",
    "data_cm['avg_dep_14_days'] = data_cm.deposit_amount_14_days/data_cm.n_deposit_days_14_days\n",
    "data_cm['avg_dep_3_months'] = data_cm.deposit_amount_3_months /data_cm.n_deposit_days_3_months\n",
    "data_cm['avg_dep_lifetime'] = data_cm.deposit_amount_lifetime /data_cm.n_deposit_days_lifetime\n",
    "data_cm['avg_wtd_14_days'] = data_cm.wtd_amount_14_days/data_cm.n_wtd_days_14_days\n",
    "data_cm['avg_wtd_3_months'] = data_cm.wtd_amount_3_months /data_cm.n_wtd_days_3_months\n",
    "data_cm['avg_wtd_lifetime'] = data_cm.wtd_amount_lifetime /data_cm.n_wtd_days_lifetime"
   ]
  },
  {
   "cell_type": "code",
   "execution_count": null,
   "metadata": {},
   "outputs": [],
   "source": [
    "data_cm.head()"
   ]
  },
  {
   "cell_type": "code",
   "execution_count": null,
   "metadata": {},
   "outputs": [],
   "source": [
    "data_results = data_cm.set_index(['Customer_id']).filter(regex=('24|avg'))\n",
    "data_results.head()"
   ]
  },
  {
   "cell_type": "code",
   "execution_count": null,
   "metadata": {},
   "outputs": [],
   "source": [
    "data_results.dtypes"
   ]
  },
  {
   "cell_type": "markdown",
   "metadata": {},
   "source": [
    "### Model Implementation"
   ]
  },
  {
   "cell_type": "code",
   "execution_count": null,
   "metadata": {},
   "outputs": [],
   "source": [
    "def anomaly_score_feature(df):\n",
    "    # compute f(x)\n",
    "    newdf = df.filter(['Customer_id'])\n",
    "    newdf['flag1'] = df.filter(regex='24').iloc[:,0] > df.filter(regex='14').iloc[:,0]\n",
    "    newdf['flag2'] = df.filter(regex='24').iloc[:,0] > df.filter(regex='3_months').iloc[:,0]\n",
    "    newdf['flag3'] = df.filter(regex='24').iloc[:,0] > df.filter(regex='lifetime').iloc[:,0]\n",
    "\n",
    "    ## computer anomaly score per feature\n",
    "    newdf = pd.DataFrame(newdf.apply('mean', axis=1))\n",
    "\n",
    "    return newdf"
   ]
  },
  {
   "cell_type": "code",
   "execution_count": null,
   "metadata": {},
   "outputs": [],
   "source": [
    "## get anomaly score for all available features \n",
    "output=[]\n",
    "feature_list = ['dep', 'wtd']\n",
    "for value in feature_list:\n",
    "    df = data_results.filter(regex=value)\n",
    "    output.append(anomaly_score_feature(df))"
   ]
  },
  {
   "cell_type": "code",
   "execution_count": null,
   "metadata": {},
   "outputs": [],
   "source": [
    "anomaly_score = pd.concat(output, axis=1)\n",
    "anomaly_score = pd.DataFrame(anomaly_score.apply('mean', axis=1))\n",
    "anomaly_score.reset_index(level=[0], inplace=True)\n",
    "anomaly_score.rename(columns={0: 'Anomaly score'}, inplace=True)\n",
    "anomaly_score.head()"
   ]
  },
  {
   "cell_type": "code",
   "execution_count": null,
   "metadata": {},
   "outputs": [],
   "source": []
  }
 ],
 "metadata": {
  "kernelspec": {
   "display_name": "Python 3",
   "language": "python",
   "name": "python3"
  }
 },
 "nbformat": 4,
 "nbformat_minor": 4
}
